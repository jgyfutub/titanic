{
 "cells": [
  {
   "cell_type": "code",
   "execution_count": 1,
   "id": "138d2fe9",
   "metadata": {},
   "outputs": [
    {
     "name": "stdout",
     "output_type": "stream",
     "text": [
      "Requirement already satisfied: xgboost in c:\\users\\acer\\anaconda3\\lib\\site-packages (2.0.3)\n",
      "Requirement already satisfied: scipy in c:\\users\\acer\\anaconda3\\lib\\site-packages (from xgboost) (1.7.3)\n",
      "Requirement already satisfied: numpy in c:\\users\\acer\\anaconda3\\lib\\site-packages (from xgboost) (1.22.4)\n"
     ]
    }
   ],
   "source": [
    "!pip install xgboost"
   ]
  },
  {
   "cell_type": "code",
   "execution_count": 2,
   "id": "1be54eba",
   "metadata": {},
   "outputs": [],
   "source": [
    "import pandas as pd\n",
    "from xgboost import XGBClassifier\n",
    "import numpy as np\n",
    "import seaborn as sns\n",
    "import matplotlib.pyplot as plt\n",
    "from sklearn.preprocessing import LabelEncoder\n",
    "from sklearn.metrics import accuracy_score, precision_score, recall_score, f1_score\n",
    "from sklearn.linear_model import LogisticRegression\n",
    "from sklearn.tree import DecisionTreeClassifier\n",
    "from sklearn.ensemble import RandomForestClassifier, GradientBoostingClassifier\n",
    "from sklearn.svm import SVC\n",
    "from sklearn.neighbors import KNeighborsClassifier\n",
    "from sklearn.model_selection import RandomizedSearchCV\n",
    "from sklearn.naive_bayes import GaussianNB\n",
    "from sklearn.model_selection import train_test_split\n",
    "from sklearn.neural_network import MLPClassifier\n",
    "from sklearn.preprocessing import OrdinalEncoder\n",
    "from keras.models import Sequential\n",
    "from keras.layers import Dense,Dropout\n",
    "from sklearn.preprocessing import OneHotEncoder\n",
    "from sklearn.preprocessing import StandardScaler"
   ]
  },
  {
   "cell_type": "code",
   "execution_count": 3,
   "id": "b04cf6c4",
   "metadata": {},
   "outputs": [
    {
     "data": {
      "text/html": [
       "<div>\n",
       "<style scoped>\n",
       "    .dataframe tbody tr th:only-of-type {\n",
       "        vertical-align: middle;\n",
       "    }\n",
       "\n",
       "    .dataframe tbody tr th {\n",
       "        vertical-align: top;\n",
       "    }\n",
       "\n",
       "    .dataframe thead th {\n",
       "        text-align: right;\n",
       "    }\n",
       "</style>\n",
       "<table border=\"1\" class=\"dataframe\">\n",
       "  <thead>\n",
       "    <tr style=\"text-align: right;\">\n",
       "      <th></th>\n",
       "      <th>PassengerId</th>\n",
       "      <th>Survived</th>\n",
       "      <th>Pclass</th>\n",
       "      <th>Name</th>\n",
       "      <th>Sex</th>\n",
       "      <th>Age</th>\n",
       "      <th>SibSp</th>\n",
       "      <th>Parch</th>\n",
       "      <th>Ticket</th>\n",
       "      <th>Fare</th>\n",
       "      <th>Cabin</th>\n",
       "      <th>Embarked</th>\n",
       "    </tr>\n",
       "  </thead>\n",
       "  <tbody>\n",
       "    <tr>\n",
       "      <th>0</th>\n",
       "      <td>1</td>\n",
       "      <td>0</td>\n",
       "      <td>3</td>\n",
       "      <td>Braund, Mr. Owen Harris</td>\n",
       "      <td>male</td>\n",
       "      <td>22.0</td>\n",
       "      <td>1</td>\n",
       "      <td>0</td>\n",
       "      <td>A/5 21171</td>\n",
       "      <td>7.2500</td>\n",
       "      <td>NaN</td>\n",
       "      <td>S</td>\n",
       "    </tr>\n",
       "    <tr>\n",
       "      <th>1</th>\n",
       "      <td>2</td>\n",
       "      <td>1</td>\n",
       "      <td>1</td>\n",
       "      <td>Cumings, Mrs. John Bradley (Florence Briggs Th...</td>\n",
       "      <td>female</td>\n",
       "      <td>38.0</td>\n",
       "      <td>1</td>\n",
       "      <td>0</td>\n",
       "      <td>PC 17599</td>\n",
       "      <td>71.2833</td>\n",
       "      <td>C85</td>\n",
       "      <td>C</td>\n",
       "    </tr>\n",
       "    <tr>\n",
       "      <th>2</th>\n",
       "      <td>3</td>\n",
       "      <td>1</td>\n",
       "      <td>3</td>\n",
       "      <td>Heikkinen, Miss. Laina</td>\n",
       "      <td>female</td>\n",
       "      <td>26.0</td>\n",
       "      <td>0</td>\n",
       "      <td>0</td>\n",
       "      <td>STON/O2. 3101282</td>\n",
       "      <td>7.9250</td>\n",
       "      <td>NaN</td>\n",
       "      <td>S</td>\n",
       "    </tr>\n",
       "    <tr>\n",
       "      <th>3</th>\n",
       "      <td>4</td>\n",
       "      <td>1</td>\n",
       "      <td>1</td>\n",
       "      <td>Futrelle, Mrs. Jacques Heath (Lily May Peel)</td>\n",
       "      <td>female</td>\n",
       "      <td>35.0</td>\n",
       "      <td>1</td>\n",
       "      <td>0</td>\n",
       "      <td>113803</td>\n",
       "      <td>53.1000</td>\n",
       "      <td>C123</td>\n",
       "      <td>S</td>\n",
       "    </tr>\n",
       "    <tr>\n",
       "      <th>4</th>\n",
       "      <td>5</td>\n",
       "      <td>0</td>\n",
       "      <td>3</td>\n",
       "      <td>Allen, Mr. William Henry</td>\n",
       "      <td>male</td>\n",
       "      <td>35.0</td>\n",
       "      <td>0</td>\n",
       "      <td>0</td>\n",
       "      <td>373450</td>\n",
       "      <td>8.0500</td>\n",
       "      <td>NaN</td>\n",
       "      <td>S</td>\n",
       "    </tr>\n",
       "  </tbody>\n",
       "</table>\n",
       "</div>"
      ],
      "text/plain": [
       "   PassengerId  Survived  Pclass  \\\n",
       "0            1         0       3   \n",
       "1            2         1       1   \n",
       "2            3         1       3   \n",
       "3            4         1       1   \n",
       "4            5         0       3   \n",
       "\n",
       "                                                Name     Sex   Age  SibSp  \\\n",
       "0                            Braund, Mr. Owen Harris    male  22.0      1   \n",
       "1  Cumings, Mrs. John Bradley (Florence Briggs Th...  female  38.0      1   \n",
       "2                             Heikkinen, Miss. Laina  female  26.0      0   \n",
       "3       Futrelle, Mrs. Jacques Heath (Lily May Peel)  female  35.0      1   \n",
       "4                           Allen, Mr. William Henry    male  35.0      0   \n",
       "\n",
       "   Parch            Ticket     Fare Cabin Embarked  \n",
       "0      0         A/5 21171   7.2500   NaN        S  \n",
       "1      0          PC 17599  71.2833   C85        C  \n",
       "2      0  STON/O2. 3101282   7.9250   NaN        S  \n",
       "3      0            113803  53.1000  C123        S  \n",
       "4      0            373450   8.0500   NaN        S  "
      ]
     },
     "execution_count": 3,
     "metadata": {},
     "output_type": "execute_result"
    }
   ],
   "source": [
    "dataset=pd.read_csv(r\"C:\\Users\\Acer\\titanicnotebook\\titanic_train.xlsx - Worksheet.csv\")\n",
    "dataset.head()"
   ]
  },
  {
   "cell_type": "code",
   "execution_count": 4,
   "id": "4fa564c9",
   "metadata": {},
   "outputs": [
    {
     "data": {
      "text/plain": [
       "PassengerId      0\n",
       "Survived         0\n",
       "Pclass           0\n",
       "Name             0\n",
       "Sex              0\n",
       "Age            177\n",
       "SibSp            0\n",
       "Parch            0\n",
       "Ticket           0\n",
       "Fare             0\n",
       "Cabin          687\n",
       "Embarked         2\n",
       "dtype: int64"
      ]
     },
     "execution_count": 4,
     "metadata": {},
     "output_type": "execute_result"
    }
   ],
   "source": [
    "dataset.isnull().sum()"
   ]
  },
  {
   "cell_type": "code",
   "execution_count": 5,
   "id": "babc81f8",
   "metadata": {},
   "outputs": [
    {
     "data": {
      "text/plain": [
       "891"
      ]
     },
     "execution_count": 5,
     "metadata": {},
     "output_type": "execute_result"
    }
   ],
   "source": [
    "len(dataset)"
   ]
  },
  {
   "cell_type": "code",
   "execution_count": 6,
   "id": "ebc5add3",
   "metadata": {
    "scrolled": false
   },
   "outputs": [
    {
     "data": {
      "text/html": [
       "<div>\n",
       "<style scoped>\n",
       "    .dataframe tbody tr th:only-of-type {\n",
       "        vertical-align: middle;\n",
       "    }\n",
       "\n",
       "    .dataframe tbody tr th {\n",
       "        vertical-align: top;\n",
       "    }\n",
       "\n",
       "    .dataframe thead th {\n",
       "        text-align: right;\n",
       "    }\n",
       "</style>\n",
       "<table border=\"1\" class=\"dataframe\">\n",
       "  <thead>\n",
       "    <tr style=\"text-align: right;\">\n",
       "      <th></th>\n",
       "      <th>PassengerId</th>\n",
       "      <th>Survived</th>\n",
       "      <th>Pclass</th>\n",
       "      <th>Age</th>\n",
       "      <th>SibSp</th>\n",
       "      <th>Parch</th>\n",
       "      <th>Fare</th>\n",
       "    </tr>\n",
       "  </thead>\n",
       "  <tbody>\n",
       "    <tr>\n",
       "      <th>count</th>\n",
       "      <td>891.000000</td>\n",
       "      <td>891.000000</td>\n",
       "      <td>891.000000</td>\n",
       "      <td>714.000000</td>\n",
       "      <td>891.000000</td>\n",
       "      <td>891.000000</td>\n",
       "      <td>891.000000</td>\n",
       "    </tr>\n",
       "    <tr>\n",
       "      <th>mean</th>\n",
       "      <td>446.000000</td>\n",
       "      <td>0.383838</td>\n",
       "      <td>2.308642</td>\n",
       "      <td>29.699118</td>\n",
       "      <td>0.523008</td>\n",
       "      <td>0.381594</td>\n",
       "      <td>32.204208</td>\n",
       "    </tr>\n",
       "    <tr>\n",
       "      <th>std</th>\n",
       "      <td>257.353842</td>\n",
       "      <td>0.486592</td>\n",
       "      <td>0.836071</td>\n",
       "      <td>14.526497</td>\n",
       "      <td>1.102743</td>\n",
       "      <td>0.806057</td>\n",
       "      <td>49.693429</td>\n",
       "    </tr>\n",
       "    <tr>\n",
       "      <th>min</th>\n",
       "      <td>1.000000</td>\n",
       "      <td>0.000000</td>\n",
       "      <td>1.000000</td>\n",
       "      <td>0.420000</td>\n",
       "      <td>0.000000</td>\n",
       "      <td>0.000000</td>\n",
       "      <td>0.000000</td>\n",
       "    </tr>\n",
       "    <tr>\n",
       "      <th>25%</th>\n",
       "      <td>223.500000</td>\n",
       "      <td>0.000000</td>\n",
       "      <td>2.000000</td>\n",
       "      <td>20.125000</td>\n",
       "      <td>0.000000</td>\n",
       "      <td>0.000000</td>\n",
       "      <td>7.910400</td>\n",
       "    </tr>\n",
       "    <tr>\n",
       "      <th>50%</th>\n",
       "      <td>446.000000</td>\n",
       "      <td>0.000000</td>\n",
       "      <td>3.000000</td>\n",
       "      <td>28.000000</td>\n",
       "      <td>0.000000</td>\n",
       "      <td>0.000000</td>\n",
       "      <td>14.454200</td>\n",
       "    </tr>\n",
       "    <tr>\n",
       "      <th>75%</th>\n",
       "      <td>668.500000</td>\n",
       "      <td>1.000000</td>\n",
       "      <td>3.000000</td>\n",
       "      <td>38.000000</td>\n",
       "      <td>1.000000</td>\n",
       "      <td>0.000000</td>\n",
       "      <td>31.000000</td>\n",
       "    </tr>\n",
       "    <tr>\n",
       "      <th>max</th>\n",
       "      <td>891.000000</td>\n",
       "      <td>1.000000</td>\n",
       "      <td>3.000000</td>\n",
       "      <td>80.000000</td>\n",
       "      <td>8.000000</td>\n",
       "      <td>6.000000</td>\n",
       "      <td>512.329200</td>\n",
       "    </tr>\n",
       "  </tbody>\n",
       "</table>\n",
       "</div>"
      ],
      "text/plain": [
       "       PassengerId    Survived      Pclass         Age       SibSp  \\\n",
       "count   891.000000  891.000000  891.000000  714.000000  891.000000   \n",
       "mean    446.000000    0.383838    2.308642   29.699118    0.523008   \n",
       "std     257.353842    0.486592    0.836071   14.526497    1.102743   \n",
       "min       1.000000    0.000000    1.000000    0.420000    0.000000   \n",
       "25%     223.500000    0.000000    2.000000   20.125000    0.000000   \n",
       "50%     446.000000    0.000000    3.000000   28.000000    0.000000   \n",
       "75%     668.500000    1.000000    3.000000   38.000000    1.000000   \n",
       "max     891.000000    1.000000    3.000000   80.000000    8.000000   \n",
       "\n",
       "            Parch        Fare  \n",
       "count  891.000000  891.000000  \n",
       "mean     0.381594   32.204208  \n",
       "std      0.806057   49.693429  \n",
       "min      0.000000    0.000000  \n",
       "25%      0.000000    7.910400  \n",
       "50%      0.000000   14.454200  \n",
       "75%      0.000000   31.000000  \n",
       "max      6.000000  512.329200  "
      ]
     },
     "execution_count": 6,
     "metadata": {},
     "output_type": "execute_result"
    }
   ],
   "source": [
    "dataset.describe()"
   ]
  },
  {
   "cell_type": "code",
   "execution_count": 7,
   "id": "1216017e",
   "metadata": {},
   "outputs": [
    {
     "name": "stdout",
     "output_type": "stream",
     "text": [
      "<class 'pandas.core.frame.DataFrame'>\n",
      "RangeIndex: 891 entries, 0 to 890\n",
      "Data columns (total 12 columns):\n",
      " #   Column       Non-Null Count  Dtype  \n",
      "---  ------       --------------  -----  \n",
      " 0   PassengerId  891 non-null    int64  \n",
      " 1   Survived     891 non-null    int64  \n",
      " 2   Pclass       891 non-null    int64  \n",
      " 3   Name         891 non-null    object \n",
      " 4   Sex          891 non-null    object \n",
      " 5   Age          714 non-null    float64\n",
      " 6   SibSp        891 non-null    int64  \n",
      " 7   Parch        891 non-null    int64  \n",
      " 8   Ticket       891 non-null    object \n",
      " 9   Fare         891 non-null    float64\n",
      " 10  Cabin        204 non-null    object \n",
      " 11  Embarked     889 non-null    object \n",
      "dtypes: float64(2), int64(5), object(5)\n",
      "memory usage: 83.7+ KB\n"
     ]
    }
   ],
   "source": [
    "dataset.info()"
   ]
  },
  {
   "cell_type": "code",
   "execution_count": 8,
   "id": "b8ef90e9",
   "metadata": {
    "scrolled": true
   },
   "outputs": [
    {
     "data": {
      "image/png": "[encoded data removed]",
      "text/plain": [
       "<Figure size 432x288 with 1 Axes>"
      ]
     },
     "metadata": {
      "needs_background": "light"
     },
     "output_type": "display_data"
    }
   ],
   "source": [
    "sns.countplot(x=dataset['Survived'])\n",
    "plt.show()"
   ]
  },
  {
   "cell_type": "markdown",
   "id": "8059491c",
   "metadata": {},
   "source": [
    "The above graph explain the survival rate thorugh bar plot"
   ]
  },
  {
   "cell_type": "code",
   "execution_count": 9,
   "id": "da1aa480",
   "metadata": {},
   "outputs": [
    {
     "data": {
      "image/png": "[encoded data removed]",
      "text/plain": [
       "<Figure size 432x288 with 1 Axes>"
      ]
     },
     "metadata": {
      "needs_background": "light"
     },
     "output_type": "display_data"
    },
    {
     "data": {
      "image/png": "[encoded data removed]",
      "text/plain": [
       "<Figure size 411.875x360 with 1 Axes>"
      ]
     },
     "metadata": {
      "needs_background": "light"
     },
     "output_type": "display_data"
    }
   ],
   "source": [
    "sns.countplot(x=dataset['Pclass'])\n",
    "sns.catplot(x =\"Pclass\", hue =\"Survived\", kind =\"count\", data = dataset)\n",
    "plt.show()"
   ]
  },
  {
   "cell_type": "markdown",
   "id": "cced84b9",
   "metadata": {},
   "source": [
    "As we can see from above graph most people were in the 3rd Pclass and most of them died.But 1st Pclass has the least death and most survival rate amongst all.Hence Pclass is a very important feature in the dataset"
   ]
  },
  {
   "cell_type": "code",
   "execution_count": 10,
   "id": "5e2d3c8b",
   "metadata": {},
   "outputs": [
    {
     "data": {
      "image/png": "[encoded data removed]",
      "text/plain": [
       "<Figure size 432x288 with 1 Axes>"
      ]
     },
     "metadata": {
      "needs_background": "light"
     },
     "output_type": "display_data"
    },
    {
     "data": {
      "image/png": "[encoded data removed]",
      "text/plain": [
       "<Figure size 411.875x360 with 1 Axes>"
      ]
     },
     "metadata": {
      "needs_background": "light"
     },
     "output_type": "display_data"
    }
   ],
   "source": [
    "sns.countplot(x=dataset['Sex'])\n",
    "sns.catplot(x =\"Sex\", hue =\"Survived\", kind =\"count\", data = dataset)\n",
    "plt.show()"
   ]
  },
  {
   "cell_type": "markdown",
   "id": "2a942814",
   "metadata": {},
   "source": [
    "We can see from above graph that male were more than female and it was male also who died the most"
   ]
  },
  {
   "cell_type": "code",
   "execution_count": 11,
   "id": "db4d5d72",
   "metadata": {},
   "outputs": [
    {
     "data": {
      "image/png": "[encoded data removed]",
      "text/plain": [
       "<Figure size 432x288 with 1 Axes>"
      ]
     },
     "metadata": {
      "needs_background": "light"
     },
     "output_type": "display_data"
    },
    {
     "data": {
      "image/png": "[encoded data removed]",
      "text/plain": [
       "<Figure size 411.875x360 with 1 Axes>"
      ]
     },
     "metadata": {
      "needs_background": "light"
     },
     "output_type": "display_data"
    }
   ],
   "source": [
    "sns.countplot(x=dataset['Embarked'])\n",
    "sns.catplot(x =\"Embarked\", hue =\"Survived\", kind =\"count\", data = dataset)\n",
    "plt.show()"
   ]
  },
  {
   "cell_type": "markdown",
   "id": "7ce894e7",
   "metadata": {},
   "source": [
    "The Embarked S had the most passengers and there only the most people survived anf died.So the null values of Embarked can be filled with S"
   ]
  },
  {
   "cell_type": "code",
   "execution_count": 12,
   "id": "06c241cd",
   "metadata": {},
   "outputs": [
    {
     "data": {
      "image/png": "[encoded data removed]",
      "text/plain": [
       "<Figure size 1080x432 with 1 Axes>"
      ]
     },
     "metadata": {},
     "output_type": "display_data"
    }
   ],
   "source": [
    "sns.set(style=\"whitegrid\")\n",
    "plt.figure(figsize=(15, 6))\n",
    "sns.scatterplot(data=dataset, x='Age', y='Sex', hue='Survived', palette='coolwarm')\n",
    "plt.legend(title='Survived', loc='best')\n",
    "plt.show()"
   ]
  },
  {
   "cell_type": "markdown",
   "id": "ee470939",
   "metadata": {},
   "source": [
    "from above scatter plot we can come to conclusion that :-\n",
    "1.Mostly men died in the dataset\n",
    "2.the age range of 20-50 died the most in the dataset\n",
    "3.women died far less than men"
   ]
  },
  {
   "cell_type": "code",
   "execution_count": 13,
   "id": "a5bc1a30",
   "metadata": {},
   "outputs": [
    {
     "data": {
      "text/plain": [
       "<AxesSubplot:xlabel='Fare_Range', ylabel='Survived'>"
      ]
     },
     "execution_count": 13,
     "metadata": {},
     "output_type": "execute_result"
    },
    {
     "data": {
      "image/png": "[encoded data removed]",
      "text/plain": [
       "<Figure size 432x288 with 1 Axes>"
      ]
     },
     "metadata": {},
     "output_type": "display_data"
    }
   ],
   "source": [
    "dataset['Fare_Range'] = pd.qcut(dataset['Fare'],4, labels = [0, 1, 2, 3]).astype(int)\n",
    "sns.barplot(x ='Fare_Range', y ='Survived', \n",
    "data = dataset)"
   ]
  },
  {
   "cell_type": "markdown",
   "id": "29f38bb9",
   "metadata": {},
   "source": [
    "as fare range is continuous we can divide it into separate bins so that we can get a better idea of the attribute.So higher the fare more chances of survival"
   ]
  },
  {
   "cell_type": "code",
   "execution_count": 14,
   "id": "8325d4c9",
   "metadata": {},
   "outputs": [
    {
     "data": {
      "text/plain": [
       "0        3\n",
       "1        4\n",
       "2        3\n",
       "3        4\n",
       "4        4\n",
       "      ... \n",
       "886      3\n",
       "887      2\n",
       "888    NaN\n",
       "889      3\n",
       "890      4\n",
       "Name: age_Range, Length: 891, dtype: category\n",
       "Categories (8, int64): [1 < 2 < 3 < 4 < 5 < 6 < 7 < 8]"
      ]
     },
     "execution_count": 14,
     "metadata": {},
     "output_type": "execute_result"
    },
    {
     "data": {
      "image/png": "[encoded data removed]",
      "text/plain": [
       "<Figure size 432x288 with 1 Axes>"
      ]
     },
     "metadata": {},
     "output_type": "display_data"
    }
   ],
   "source": [
    "dataset['age_Range'] = pd.cut(dataset['Age'],bins=[0, 10, 20, 30, 40, 50, 60, 70, 80],labels=[ 1, 2, 3, 4, 5, 6, 7, 8])\n",
    "sns.barplot(x ='age_Range', y ='Survived', \n",
    "data = dataset)\n",
    "dataset['age_Range']"
   ]
  },
  {
   "cell_type": "markdown",
   "id": "b0b9d1f4",
   "metadata": {},
   "source": [
    "as age is also continuous ,we can also divide it into several bins ,here we can easily see that infants survived the most and old aged survived least"
   ]
  },
  {
   "cell_type": "code",
   "execution_count": 15,
   "id": "cd8378d9",
   "metadata": {},
   "outputs": [],
   "source": [
    "dataset['Age'].fillna(30, inplace=True) # as average value is age is 30\n",
    "dataset['age_Range'].fillna(3, inplace=True) "
   ]
  },
  {
   "cell_type": "code",
   "execution_count": 16,
   "id": "6ca1d522",
   "metadata": {},
   "outputs": [],
   "source": [
    "dataset['Embarked'].fillna('S',inplace=True) "
   ]
  },
  {
   "cell_type": "code",
   "execution_count": 17,
   "id": "05322862",
   "metadata": {},
   "outputs": [
    {
     "data": {
      "text/plain": [
       "<seaborn.axisgrid.FacetGrid at 0x235327682b0>"
      ]
     },
     "execution_count": 17,
     "metadata": {},
     "output_type": "execute_result"
    },
    {
     "data": {
      "image/png": "[encoded data removed]",
      "text/plain": [
       "<Figure size 415.55x360 with 1 Axes>"
      ]
     },
     "metadata": {},
     "output_type": "display_data"
    }
   ],
   "source": [
    "dataset['HasCabin']=dataset['Cabin'].apply(lambda x: 0 if x==None else 1 )\n",
    "sns.catplot(x =\"HasCabin\", hue =\"Survived\", kind =\"count\", data = dataset)"
   ]
  },
  {
   "cell_type": "code",
   "execution_count": 18,
   "id": "a6104e70",
   "metadata": {},
   "outputs": [
    {
     "data": {
      "text/plain": [
       "<seaborn.axisgrid.FacetGrid at 0x235329821c0>"
      ]
     },
     "execution_count": 18,
     "metadata": {},
     "output_type": "execute_result"
    },
    {
     "data": {
      "image/png": "[encoded data removed]",
      "text/plain": [
       "<Figure size 415.55x360 with 1 Axes>"
      ]
     },
     "metadata": {},
     "output_type": "display_data"
    }
   ],
   "source": [
    "dataset['Saluatation']=dataset['Name'].apply(lambda x: 0 if \"Mr.\" in x else (1 if \"Mrs.\" in x else (2 if \"Miss.\" in x else 3)))\n",
    "sns.catplot(x =\"Saluatation\", hue =\"Survived\", kind =\"count\", data = dataset)"
   ]
  },
  {
   "cell_type": "markdown",
   "id": "0e5e04e4",
   "metadata": {},
   "source": [
    "We can clearly see that Name should not be ignored since the salutation part can help us identifying survival rates of a passenger.Here the Mr saluatation has died the most whereas the Miss saluatation have survived the most"
   ]
  },
  {
   "cell_type": "code",
   "execution_count": 19,
   "id": "37d3384c",
   "metadata": {},
   "outputs": [
    {
     "data": {
      "text/html": [
       "<div>\n",
       "<style scoped>\n",
       "    .dataframe tbody tr th:only-of-type {\n",
       "        vertical-align: middle;\n",
       "    }\n",
       "\n",
       "    .dataframe tbody tr th {\n",
       "        vertical-align: top;\n",
       "    }\n",
       "\n",
       "    .dataframe thead th {\n",
       "        text-align: right;\n",
       "    }\n",
       "</style>\n",
       "<table border=\"1\" class=\"dataframe\">\n",
       "  <thead>\n",
       "    <tr style=\"text-align: right;\">\n",
       "      <th></th>\n",
       "      <th>PassengerId</th>\n",
       "      <th>Survived</th>\n",
       "      <th>Pclass</th>\n",
       "      <th>Name</th>\n",
       "      <th>Sex</th>\n",
       "      <th>Age</th>\n",
       "      <th>SibSp</th>\n",
       "      <th>Parch</th>\n",
       "      <th>Ticket</th>\n",
       "      <th>Fare</th>\n",
       "      <th>Cabin</th>\n",
       "      <th>Embarked</th>\n",
       "      <th>Fare_Range</th>\n",
       "      <th>age_Range</th>\n",
       "      <th>HasCabin</th>\n",
       "      <th>Saluatation</th>\n",
       "    </tr>\n",
       "  </thead>\n",
       "  <tbody>\n",
       "    <tr>\n",
       "      <th>0</th>\n",
       "      <td>1</td>\n",
       "      <td>0</td>\n",
       "      <td>3</td>\n",
       "      <td>Braund, Mr. Owen Harris</td>\n",
       "      <td>male</td>\n",
       "      <td>22.0</td>\n",
       "      <td>1</td>\n",
       "      <td>0</td>\n",
       "      <td>A/5 21171</td>\n",
       "      <td>7.2500</td>\n",
       "      <td>NaN</td>\n",
       "      <td>S</td>\n",
       "      <td>0</td>\n",
       "      <td>3</td>\n",
       "      <td>1</td>\n",
       "      <td>0</td>\n",
       "    </tr>\n",
       "    <tr>\n",
       "      <th>1</th>\n",
       "      <td>2</td>\n",
       "      <td>1</td>\n",
       "      <td>1</td>\n",
       "      <td>Cumings, Mrs. John Bradley (Florence Briggs Th...</td>\n",
       "      <td>female</td>\n",
       "      <td>38.0</td>\n",
       "      <td>1</td>\n",
       "      <td>0</td>\n",
       "      <td>PC 17599</td>\n",
       "      <td>71.2833</td>\n",
       "      <td>C85</td>\n",
       "      <td>C</td>\n",
       "      <td>3</td>\n",
       "      <td>4</td>\n",
       "      <td>1</td>\n",
       "      <td>1</td>\n",
       "    </tr>\n",
       "    <tr>\n",
       "      <th>2</th>\n",
       "      <td>3</td>\n",
       "      <td>1</td>\n",
       "      <td>3</td>\n",
       "      <td>Heikkinen, Miss. Laina</td>\n",
       "      <td>female</td>\n",
       "      <td>26.0</td>\n",
       "      <td>0</td>\n",
       "      <td>0</td>\n",
       "      <td>STON/O2. 3101282</td>\n",
       "      <td>7.9250</td>\n",
       "      <td>NaN</td>\n",
       "      <td>S</td>\n",
       "      <td>1</td>\n",
       "      <td>3</td>\n",
       "      <td>1</td>\n",
       "      <td>2</td>\n",
       "    </tr>\n",
       "    <tr>\n",
       "      <th>3</th>\n",
       "      <td>4</td>\n",
       "      <td>1</td>\n",
       "      <td>1</td>\n",
       "      <td>Futrelle, Mrs. Jacques Heath (Lily May Peel)</td>\n",
       "      <td>female</td>\n",
       "      <td>35.0</td>\n",
       "      <td>1</td>\n",
       "      <td>0</td>\n",
       "      <td>113803</td>\n",
       "      <td>53.1000</td>\n",
       "      <td>C123</td>\n",
       "      <td>S</td>\n",
       "      <td>3</td>\n",
       "      <td>4</td>\n",
       "      <td>1</td>\n",
       "      <td>1</td>\n",
       "    </tr>\n",
       "    <tr>\n",
       "      <th>4</th>\n",
       "      <td>5</td>\n",
       "      <td>0</td>\n",
       "      <td>3</td>\n",
       "      <td>Allen, Mr. William Henry</td>\n",
       "      <td>male</td>\n",
       "      <td>35.0</td>\n",
       "      <td>0</td>\n",
       "      <td>0</td>\n",
       "      <td>373450</td>\n",
       "      <td>8.0500</td>\n",
       "      <td>NaN</td>\n",
       "      <td>S</td>\n",
       "      <td>1</td>\n",
       "      <td>4</td>\n",
       "      <td>1</td>\n",
       "      <td>0</td>\n",
       "    </tr>\n",
       "  </tbody>\n",
       "</table>\n",
       "</div>"
      ],
      "text/plain": [
       "   PassengerId  Survived  Pclass  \\\n",
       "0            1         0       3   \n",
       "1            2         1       1   \n",
       "2            3         1       3   \n",
       "3            4         1       1   \n",
       "4            5         0       3   \n",
       "\n",
       "                                                Name     Sex   Age  SibSp  \\\n",
       "0                            Braund, Mr. Owen Harris    male  22.0      1   \n",
       "1  Cumings, Mrs. John Bradley (Florence Briggs Th...  female  38.0      1   \n",
       "2                             Heikkinen, Miss. Laina  female  26.0      0   \n",
       "3       Futrelle, Mrs. Jacques Heath (Lily May Peel)  female  35.0      1   \n",
       "4                           Allen, Mr. William Henry    male  35.0      0   \n",
       "\n",
       "   Parch            Ticket     Fare Cabin Embarked  Fare_Range age_Range  \\\n",
       "0      0         A/5 21171   7.2500   NaN        S           0         3   \n",
       "1      0          PC 17599  71.2833   C85        C           3         4   \n",
       "2      0  STON/O2. 3101282   7.9250   NaN        S           1         3   \n",
       "3      0            113803  53.1000  C123        S           3         4   \n",
       "4      0            373450   8.0500   NaN        S           1         4   \n",
       "\n",
       "   HasCabin  Saluatation  \n",
       "0         1            0  \n",
       "1         1            1  \n",
       "2         1            2  \n",
       "3         1            1  \n",
       "4         1            0  "
      ]
     },
     "execution_count": 19,
     "metadata": {},
     "output_type": "execute_result"
    }
   ],
   "source": [
    "dataset.head()"
   ]
  },
  {
   "cell_type": "code",
   "execution_count": 20,
   "id": "aa65b322",
   "metadata": {},
   "outputs": [],
   "source": [
    "features=['Sex']\n",
    "encoder = OrdinalEncoder(\n",
    "        handle_unknown='use_encoded_value', \n",
    "        unknown_value=-1\n",
    "    ).fit(dataset[features])\n",
    "dataset[features]=encoder.transform(dataset[features])"
   ]
  },
  {
   "cell_type": "code",
   "execution_count": 21,
   "id": "c296dbc0",
   "metadata": {},
   "outputs": [
    {
     "data": {
      "text/html": [
       "<div>\n",
       "<style scoped>\n",
       "    .dataframe tbody tr th:only-of-type {\n",
       "        vertical-align: middle;\n",
       "    }\n",
       "\n",
       "    .dataframe tbody tr th {\n",
       "        vertical-align: top;\n",
       "    }\n",
       "\n",
       "    .dataframe thead th {\n",
       "        text-align: right;\n",
       "    }\n",
       "</style>\n",
       "<table border=\"1\" class=\"dataframe\">\n",
       "  <thead>\n",
       "    <tr style=\"text-align: right;\">\n",
       "      <th></th>\n",
       "      <th>Embarked_C</th>\n",
       "      <th>Embarked_Q</th>\n",
       "      <th>Embarked_S</th>\n",
       "    </tr>\n",
       "  </thead>\n",
       "  <tbody>\n",
       "    <tr>\n",
       "      <th>0</th>\n",
       "      <td>0.0</td>\n",
       "      <td>0.0</td>\n",
       "      <td>1.0</td>\n",
       "    </tr>\n",
       "    <tr>\n",
       "      <th>1</th>\n",
       "      <td>1.0</td>\n",
       "      <td>0.0</td>\n",
       "      <td>0.0</td>\n",
       "    </tr>\n",
       "    <tr>\n",
       "      <th>2</th>\n",
       "      <td>0.0</td>\n",
       "      <td>0.0</td>\n",
       "      <td>1.0</td>\n",
       "    </tr>\n",
       "    <tr>\n",
       "      <th>3</th>\n",
       "      <td>0.0</td>\n",
       "      <td>0.0</td>\n",
       "      <td>1.0</td>\n",
       "    </tr>\n",
       "    <tr>\n",
       "      <th>4</th>\n",
       "      <td>0.0</td>\n",
       "      <td>0.0</td>\n",
       "      <td>1.0</td>\n",
       "    </tr>\n",
       "  </tbody>\n",
       "</table>\n",
       "</div>"
      ],
      "text/plain": [
       "   Embarked_C  Embarked_Q  Embarked_S\n",
       "0         0.0         0.0         1.0\n",
       "1         1.0         0.0         0.0\n",
       "2         0.0         0.0         1.0\n",
       "3         0.0         0.0         1.0\n",
       "4         0.0         0.0         1.0"
      ]
     },
     "execution_count": 21,
     "metadata": {},
     "output_type": "execute_result"
    }
   ],
   "source": [
    "encoder = OneHotEncoder()\n",
    "one_hot_encoded = encoder.fit_transform(dataset[['Embarked']])\n",
    "one_hot_df = pd.DataFrame(one_hot_encoded.toarray(), columns=encoder.get_feature_names_out(['Embarked']))\n",
    "dataset=pd.concat([dataset,one_hot_df],axis=1)\n",
    "one_hot_df.head()"
   ]
  },
  {
   "cell_type": "code",
   "execution_count": 22,
   "id": "5334feeb",
   "metadata": {
    "scrolled": false
   },
   "outputs": [
    {
     "data": {
      "text/html": [
       "<div>\n",
       "<style scoped>\n",
       "    .dataframe tbody tr th:only-of-type {\n",
       "        vertical-align: middle;\n",
       "    }\n",
       "\n",
       "    .dataframe tbody tr th {\n",
       "        vertical-align: top;\n",
       "    }\n",
       "\n",
       "    .dataframe thead th {\n",
       "        text-align: right;\n",
       "    }\n",
       "</style>\n",
       "<table border=\"1\" class=\"dataframe\">\n",
       "  <thead>\n",
       "    <tr style=\"text-align: right;\">\n",
       "      <th></th>\n",
       "      <th>PassengerId</th>\n",
       "      <th>Survived</th>\n",
       "      <th>Pclass</th>\n",
       "      <th>Name</th>\n",
       "      <th>Sex</th>\n",
       "      <th>Age</th>\n",
       "      <th>SibSp</th>\n",
       "      <th>Parch</th>\n",
       "      <th>Ticket</th>\n",
       "      <th>Fare</th>\n",
       "      <th>Cabin</th>\n",
       "      <th>Embarked</th>\n",
       "      <th>Fare_Range</th>\n",
       "      <th>age_Range</th>\n",
       "      <th>HasCabin</th>\n",
       "      <th>Saluatation</th>\n",
       "      <th>Embarked_C</th>\n",
       "      <th>Embarked_Q</th>\n",
       "      <th>Embarked_S</th>\n",
       "    </tr>\n",
       "  </thead>\n",
       "  <tbody>\n",
       "    <tr>\n",
       "      <th>0</th>\n",
       "      <td>1</td>\n",
       "      <td>0</td>\n",
       "      <td>3</td>\n",
       "      <td>Braund, Mr. Owen Harris</td>\n",
       "      <td>1.0</td>\n",
       "      <td>22.0</td>\n",
       "      <td>1</td>\n",
       "      <td>0</td>\n",
       "      <td>A/5 21171</td>\n",
       "      <td>7.2500</td>\n",
       "      <td>NaN</td>\n",
       "      <td>S</td>\n",
       "      <td>0</td>\n",
       "      <td>3</td>\n",
       "      <td>1</td>\n",
       "      <td>0</td>\n",
       "      <td>0.0</td>\n",
       "      <td>0.0</td>\n",
       "      <td>1.0</td>\n",
       "    </tr>\n",
       "    <tr>\n",
       "      <th>1</th>\n",
       "      <td>2</td>\n",
       "      <td>1</td>\n",
       "      <td>1</td>\n",
       "      <td>Cumings, Mrs. John Bradley (Florence Briggs Th...</td>\n",
       "      <td>0.0</td>\n",
       "      <td>38.0</td>\n",
       "      <td>1</td>\n",
       "      <td>0</td>\n",
       "      <td>PC 17599</td>\n",
       "      <td>71.2833</td>\n",
       "      <td>C85</td>\n",
       "      <td>C</td>\n",
       "      <td>3</td>\n",
       "      <td>4</td>\n",
       "      <td>1</td>\n",
       "      <td>1</td>\n",
       "      <td>1.0</td>\n",
       "      <td>0.0</td>\n",
       "      <td>0.0</td>\n",
       "    </tr>\n",
       "    <tr>\n",
       "      <th>2</th>\n",
       "      <td>3</td>\n",
       "      <td>1</td>\n",
       "      <td>3</td>\n",
       "      <td>Heikkinen, Miss. Laina</td>\n",
       "      <td>0.0</td>\n",
       "      <td>26.0</td>\n",
       "      <td>0</td>\n",
       "      <td>0</td>\n",
       "      <td>STON/O2. 3101282</td>\n",
       "      <td>7.9250</td>\n",
       "      <td>NaN</td>\n",
       "      <td>S</td>\n",
       "      <td>1</td>\n",
       "      <td>3</td>\n",
       "      <td>1</td>\n",
       "      <td>2</td>\n",
       "      <td>0.0</td>\n",
       "      <td>0.0</td>\n",
       "      <td>1.0</td>\n",
       "    </tr>\n",
       "    <tr>\n",
       "      <th>3</th>\n",
       "      <td>4</td>\n",
       "      <td>1</td>\n",
       "      <td>1</td>\n",
       "      <td>Futrelle, Mrs. Jacques Heath (Lily May Peel)</td>\n",
       "      <td>0.0</td>\n",
       "      <td>35.0</td>\n",
       "      <td>1</td>\n",
       "      <td>0</td>\n",
       "      <td>113803</td>\n",
       "      <td>53.1000</td>\n",
       "      <td>C123</td>\n",
       "      <td>S</td>\n",
       "      <td>3</td>\n",
       "      <td>4</td>\n",
       "      <td>1</td>\n",
       "      <td>1</td>\n",
       "      <td>0.0</td>\n",
       "      <td>0.0</td>\n",
       "      <td>1.0</td>\n",
       "    </tr>\n",
       "    <tr>\n",
       "      <th>4</th>\n",
       "      <td>5</td>\n",
       "      <td>0</td>\n",
       "      <td>3</td>\n",
       "      <td>Allen, Mr. William Henry</td>\n",
       "      <td>1.0</td>\n",
       "      <td>35.0</td>\n",
       "      <td>0</td>\n",
       "      <td>0</td>\n",
       "      <td>373450</td>\n",
       "      <td>8.0500</td>\n",
       "      <td>NaN</td>\n",
       "      <td>S</td>\n",
       "      <td>1</td>\n",
       "      <td>4</td>\n",
       "      <td>1</td>\n",
       "      <td>0</td>\n",
       "      <td>0.0</td>\n",
       "      <td>0.0</td>\n",
       "      <td>1.0</td>\n",
       "    </tr>\n",
       "  </tbody>\n",
       "</table>\n",
       "</div>"
      ],
      "text/plain": [
       "   PassengerId  Survived  Pclass  \\\n",
       "0            1         0       3   \n",
       "1            2         1       1   \n",
       "2            3         1       3   \n",
       "3            4         1       1   \n",
       "4            5         0       3   \n",
       "\n",
       "                                                Name  Sex   Age  SibSp  Parch  \\\n",
       "0                            Braund, Mr. Owen Harris  1.0  22.0      1      0   \n",
       "1  Cumings, Mrs. John Bradley (Florence Briggs Th...  0.0  38.0      1      0   \n",
       "2                             Heikkinen, Miss. Laina  0.0  26.0      0      0   \n",
       "3       Futrelle, Mrs. Jacques Heath (Lily May Peel)  0.0  35.0      1      0   \n",
       "4                           Allen, Mr. William Henry  1.0  35.0      0      0   \n",
       "\n",
       "             Ticket     Fare Cabin Embarked  Fare_Range age_Range  HasCabin  \\\n",
       "0         A/5 21171   7.2500   NaN        S           0         3         1   \n",
       "1          PC 17599  71.2833   C85        C           3         4         1   \n",
       "2  STON/O2. 3101282   7.9250   NaN        S           1         3         1   \n",
       "3            113803  53.1000  C123        S           3         4         1   \n",
       "4            373450   8.0500   NaN        S           1         4         1   \n",
       "\n",
       "   Saluatation  Embarked_C  Embarked_Q  Embarked_S  \n",
       "0            0         0.0         0.0         1.0  \n",
       "1            1         1.0         0.0         0.0  \n",
       "2            2         0.0         0.0         1.0  \n",
       "3            1         0.0         0.0         1.0  \n",
       "4            0         0.0         0.0         1.0  "
      ]
     },
     "execution_count": 22,
     "metadata": {},
     "output_type": "execute_result"
    }
   ],
   "source": [
    "dataset.head()"
   ]
  },
  {
   "cell_type": "code",
   "execution_count": 23,
   "id": "787cc884",
   "metadata": {},
   "outputs": [],
   "source": [
    "dataset['SizeofFamily']=dataset['Parch']+dataset['SibSp']"
   ]
  },
  {
   "cell_type": "code",
   "execution_count": 24,
   "id": "575cf40f",
   "metadata": {},
   "outputs": [],
   "source": [
    "dataset['Alone']=  dataset['SizeofFamily'].apply(lambda x: 1 if x != 0 else 0)"
   ]
  },
  {
   "cell_type": "code",
   "execution_count": 25,
   "id": "1caf6a13",
   "metadata": {},
   "outputs": [
    {
     "data": {
      "text/plain": [
       "0      22.0\n",
       "1      38.0\n",
       "2      26.0\n",
       "3      35.0\n",
       "4      35.0\n",
       "       ... \n",
       "886    27.0\n",
       "887    19.0\n",
       "888    30.0\n",
       "889    26.0\n",
       "890    32.0\n",
       "Name: Age, Length: 891, dtype: float64"
      ]
     },
     "execution_count": 25,
     "metadata": {},
     "output_type": "execute_result"
    }
   ],
   "source": [
    "dataset.pop('Parch')\n",
    "dataset.pop('SibSp')\n",
    "dataset.pop('Embarked')\n",
    "dataset.pop('PassengerId')\n",
    "dataset.pop('Name')\n",
    "dataset.pop('Ticket')\n",
    "dataset.pop('Cabin')\n",
    "# dataset.pop('Fare_Range')\n",
    "dataset.pop('Fare')\n",
    "dataset.pop('Age')"
   ]
  },
  {
   "cell_type": "code",
   "execution_count": 26,
   "id": "8deb1cb7",
   "metadata": {},
   "outputs": [
    {
     "data": {
      "text/plain": [
       "0      0\n",
       "1      1\n",
       "2      1\n",
       "3      1\n",
       "4      0\n",
       "      ..\n",
       "886    0\n",
       "887    1\n",
       "888    0\n",
       "889    1\n",
       "890    0\n",
       "Name: Survived, Length: 891, dtype: int64"
      ]
     },
     "execution_count": 26,
     "metadata": {},
     "output_type": "execute_result"
    }
   ],
   "source": [
    "target=dataset['Survived']\n",
    "dataset.pop('Survived')"
   ]
  },
  {
   "cell_type": "code",
   "execution_count": 27,
   "id": "97132849",
   "metadata": {},
   "outputs": [],
   "source": [
    "def train_models(X,y,model,i):\n",
    "    train_x,test_x,train_y,test_y=train_test_split(X,y,test_size=0.1, random_state=42)\n",
    "    sscaler = StandardScaler()\n",
    "    train_x = sscaler.fit_transform(train_x)\n",
    "    test_x = sscaler.fit_transform( test_x)\n",
    "    model_fitted=model.fit(train_x,train_y)\n",
    "    predictions=model_fitted.predict(test_x)\n",
    "    accuracy = accuracy_score(test_y, predictions)\n",
    "    precision = precision_score(test_y, predictions, average='weighted')\n",
    "    recall = recall_score(test_y, predictions, average='weighted')\n",
    "    f1 = f1_score(test_y, predictions, average='weighted')\n",
    "    return {\"F1-Score\":f1,\n",
    "           \"Precision\":precision,\n",
    "           \"Recall\":recall,\n",
    "           \"Accuracy\":accuracy,}"
   ]
  },
  {
   "cell_type": "code",
   "execution_count": 28,
   "id": "2b2a64f7",
   "metadata": {},
   "outputs": [],
   "source": [
    "classification_models = {\n",
    "    'Logistic Regression': LogisticRegression(),\n",
    "    'Decision Tree': DecisionTreeClassifier(),\n",
    "    'Random Forest': RandomForestClassifier(n_jobs=-1,n_estimators=1000 , random_state=666),\n",
    "    'Gradient Boosting': GradientBoostingClassifier(),\n",
    "    'SVM': SVC(),\n",
    "    'K-Nearest Neighbors': KNeighborsClassifier(),\n",
    "    'Naive Bayes': GaussianNB(),\n",
    "    'Neural Network': MLPClassifier(),\n",
    "    'classifier': XGBClassifier(random_state=42)\n",
    "}"
   ]
  },
  {
   "cell_type": "code",
   "execution_count": 29,
   "id": "57f8baac",
   "metadata": {
    "scrolled": true
   },
   "outputs": [
    {
     "name": "stdout",
     "output_type": "stream",
     "text": [
      "Model : Logistic Regression\n",
      "{'F1-Score': 0.8115222122647547, 'Precision': 0.8121366649668537, 'Recall': 0.8111111111111111, 'Accuracy': 0.8111111111111111}\n",
      "Model : Decision Tree\n",
      "{'F1-Score': 0.8212987012987014, 'Precision': 0.8212184873949578, 'Recall': 0.8222222222222222, 'Accuracy': 0.8222222222222222}\n",
      "Model : Random Forest\n",
      "{'F1-Score': 0.8229474757776646, 'Precision': 0.8244939271255062, 'Recall': 0.8222222222222222, 'Accuracy': 0.8222222222222222}\n",
      "Model : Gradient Boosting\n",
      "{'F1-Score': 0.8234817813765182, 'Precision': 0.8280000000000001, 'Recall': 0.8222222222222222, 'Accuracy': 0.8222222222222222}\n",
      "Model : SVM\n",
      "{'F1-Score': 0.8444444444444444, 'Precision': 0.8444444444444444, 'Recall': 0.8444444444444444, 'Accuracy': 0.8444444444444444}\n",
      "Model : K-Nearest Neighbors\n",
      "{'F1-Score': 0.8, 'Precision': 0.8, 'Recall': 0.8, 'Accuracy': 0.8}\n",
      "Model : Naive Bayes\n",
      "{'F1-Score': 0.8229474757776646, 'Precision': 0.8244939271255062, 'Recall': 0.8222222222222222, 'Accuracy': 0.8222222222222222}\n",
      "Model : Neural Network\n",
      "{'F1-Score': 0.8329241504070293, 'Precision': 0.8327272727272726, 'Recall': 0.8333333333333334, 'Accuracy': 0.8333333333333334}\n",
      "Model : classifier\n",
      "{'F1-Score': 0.8558699270259891, 'Precision': 0.8563997960224377, 'Recall': 0.8555555555555555, 'Accuracy': 0.8555555555555555}\n"
     ]
    }
   ],
   "source": [
    "for i in classification_models:\n",
    "    print(\"Model : \"+i)\n",
    "    print(train_models(dataset,target,classification_models[i],i))"
   ]
  },
  {
   "cell_type": "code",
   "execution_count": 31,
   "id": "9797ca2c",
   "metadata": {},
   "outputs": [
    {
     "name": "stdout",
     "output_type": "stream",
     "text": [
      "Epoch 1/30\n",
      "17/17 [==============================] - 2s 7ms/step - loss: 0.6658 - accuracy: 0.7029\n",
      "Epoch 2/30\n",
      "17/17 [==============================] - 0s 6ms/step - loss: 0.6041 - accuracy: 0.8015\n",
      "Epoch 3/30\n",
      "17/17 [==============================] - 0s 6ms/step - loss: 0.5848 - accuracy: 0.8377\n",
      "Epoch 4/30\n",
      "17/17 [==============================] - 0s 6ms/step - loss: 0.5768 - accuracy: 0.8265\n",
      "Epoch 5/30\n",
      "17/17 [==============================] - 0s 6ms/step - loss: 0.5755 - accuracy: 0.8065\n",
      "Epoch 6/30\n",
      "17/17 [==============================] - 0s 6ms/step - loss: 0.5654 - accuracy: 0.8365\n",
      "Epoch 7/30\n",
      "17/17 [==============================] - 0s 5ms/step - loss: 0.5568 - accuracy: 0.8377\n",
      "Epoch 8/30\n",
      "17/17 [==============================] - 0s 6ms/step - loss: 0.5501 - accuracy: 0.8340\n",
      "Epoch 9/30\n",
      "17/17 [==============================] - 0s 6ms/step - loss: 0.5444 - accuracy: 0.8439\n",
      "Epoch 10/30\n",
      "17/17 [==============================] - 0s 5ms/step - loss: 0.5446 - accuracy: 0.8327\n",
      "Epoch 11/30\n",
      "17/17 [==============================] - 0s 6ms/step - loss: 0.5404 - accuracy: 0.8365\n",
      "Epoch 12/30\n",
      "17/17 [==============================] - 0s 6ms/step - loss: 0.5321 - accuracy: 0.8452\n",
      "Epoch 13/30\n",
      "17/17 [==============================] - 0s 7ms/step - loss: 0.5246 - accuracy: 0.8464\n",
      "Epoch 14/30\n",
      "17/17 [==============================] - 0s 7ms/step - loss: 0.5214 - accuracy: 0.8452\n",
      "Epoch 15/30\n",
      "17/17 [==============================] - 0s 8ms/step - loss: 0.5185 - accuracy: 0.8452\n",
      "Epoch 16/30\n",
      "17/17 [==============================] - 0s 5ms/step - loss: 0.5180 - accuracy: 0.8402\n",
      "Epoch 17/30\n",
      "17/17 [==============================] - 0s 5ms/step - loss: 0.5160 - accuracy: 0.8439\n",
      "Epoch 18/30\n",
      "17/17 [==============================] - 0s 5ms/step - loss: 0.5103 - accuracy: 0.8439\n",
      "Epoch 19/30\n",
      "17/17 [==============================] - 0s 6ms/step - loss: 0.5028 - accuracy: 0.8502\n",
      "Epoch 20/30\n",
      "17/17 [==============================] - 0s 7ms/step - loss: 0.5012 - accuracy: 0.8439\n",
      "Epoch 21/30\n",
      "17/17 [==============================] - 0s 5ms/step - loss: 0.4979 - accuracy: 0.8464\n",
      "Epoch 22/30\n",
      "17/17 [==============================] - 0s 5ms/step - loss: 0.4994 - accuracy: 0.8452\n",
      "Epoch 23/30\n",
      "17/17 [==============================] - 0s 5ms/step - loss: 0.4931 - accuracy: 0.8477\n",
      "Epoch 24/30\n",
      "17/17 [==============================] - 0s 5ms/step - loss: 0.4870 - accuracy: 0.8477\n",
      "Epoch 25/30\n",
      "17/17 [==============================] - 0s 7ms/step - loss: 0.4857 - accuracy: 0.8414\n",
      "Epoch 26/30\n",
      "17/17 [==============================] - 0s 7ms/step - loss: 0.4817 - accuracy: 0.8477\n",
      "Epoch 27/30\n",
      "17/17 [==============================] - 0s 7ms/step - loss: 0.4775 - accuracy: 0.8514\n",
      "Epoch 28/30\n",
      "17/17 [==============================] - 0s 6ms/step - loss: 0.4758 - accuracy: 0.8477\n",
      "Epoch 29/30\n",
      "17/17 [==============================] - 0s 5ms/step - loss: 0.4693 - accuracy: 0.8489\n",
      "Epoch 30/30\n",
      "17/17 [==============================] - 0s 6ms/step - loss: 0.4674 - accuracy: 0.8489\n"
     ]
    },
    {
     "data": {
      "text/plain": [
       "<keras.callbacks.History at 0x23536f518e0>"
      ]
     },
     "execution_count": 31,
     "metadata": {},
     "output_type": "execute_result"
    }
   ],
   "source": [
    "X_train, X_test, y_train, y_test = train_test_split(dataset, target, test_size=0.1, random_state=42)\n",
    "model = Sequential()\n",
    "model.add(Dense(256, activation='relu', input_dim=11))\n",
    "model.add(Dense(128, activation='relu'))\n",
    "model.add(Dense(64, activation='relu'))\n",
    "model.add(Dense(32, activation='relu'))\n",
    "model.add(Dense(16, activation='relu'))\n",
    "model.add(Dense(8, activation='relu'))\n",
    "model.add(Dense(4, activation='relu'))\n",
    "model.add(Dense(2, activation='relu'))\n",
    "model.add(Dense(1, activation='sigmoid')) \n",
    "model.compile(loss='binary_crossentropy', optimizer='adam', metrics=['accuracy']) \n",
    "sscaler = StandardScaler()\n",
    "X_train = sscaler.fit_transform(X_train)\n",
    "model.fit(X_train, y_train, epochs=30, batch_size=50)"
   ]
  },
  {
   "cell_type": "code",
   "execution_count": 32,
   "id": "79028dc9",
   "metadata": {},
   "outputs": [
    {
     "name": "stdout",
     "output_type": "stream",
     "text": [
      "3/3 [==============================] - 0s 5ms/step\n"
     ]
    }
   ],
   "source": [
    "X_test = sscaler.fit_transform( X_test)\n",
    "arr=model.predict(X_test)"
   ]
  },
  {
   "cell_type": "code",
   "execution_count": 33,
   "id": "eb853d5d",
   "metadata": {},
   "outputs": [
    {
     "name": "stdout",
     "output_type": "stream",
     "text": [
      "The Accuracy is 0.8333333333333334\n"
     ]
    }
   ],
   "source": [
    "arrset=[]\n",
    "for i in arr:\n",
    "    if i[0]>0.5:\n",
    "        arrset.append(1)\n",
    "    else:\n",
    "        arrset.append(0)\n",
    "acc = accuracy_score(y_test, arrset)\n",
    "print(\"The Accuracy is \"+str(acc))"
   ]
  },
  {
   "cell_type": "code",
   "execution_count": null,
   "id": "89c3f902",
   "metadata": {},
   "outputs": [],
   "source": []
  }
 ],
 "metadata": {
  "kernelspec": {
   "display_name": "Python 3 (ipykernel)",
   "language": "python",
   "name": "python3"
  },
  "language_info": {
   "codemirror_mode": {
    "name": "ipython",
    "version": 3
   },
   "file_extension": ".py",
   "mimetype": "text/x-python",
   "name": "python",
   "nbconvert_exporter": "python",
   "pygments_lexer": "ipython3",
   "version": "3.9.12"
  }
 },
 "nbformat": 4,
 "nbformat_minor": 5
}
